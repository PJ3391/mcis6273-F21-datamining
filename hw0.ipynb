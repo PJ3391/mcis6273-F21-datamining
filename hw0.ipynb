{
 "cells": [
  {
   "cell_type": "markdown",
   "metadata": {},
   "source": [
    "# MCIS6273 Data Mining (Prof. Maull) / Fall 2021 / HW0\n",
    "\n",
    "**This assignment is worth up to 20 POINTS to your grade total if you complete it on time.**\n",
    "\n",
    "| Points <br/>Possible | Due Date | Time Commitment <br/>(estimated) |\n",
    "|:---------------:|:--------:|:---------------:|\n",
    "| 20 | Wednesday, Sep 1 @ Midnight | _up to_ 20 hours |\n",
    "\n",
    "\n",
    "* **GRADING:** Grading will be aligned with the completeness of the objectives.\n",
    "\n",
    "* **INDEPENDENT WORK:** Copying, cheating, plagiarism  and academic dishonesty _are not tolerated_ by University or course policy.  Please see the syllabus for the full departmental and University statement on the academic code of honor.\n",
    "\n",
    "## OBJECTIVES\n",
    "* Familiarize yourself with the JupyterLab environment, Markdown and Python\n",
    "\n",
    "* Familiarize yourself with Github and basic git\n",
    "\n",
    "* Explore JupyterHub Linux console integrating what you learned in the prior parts of this homework\n",
    "\n",
    "* Listen to the Talk Python['Podcast'] from June 25, 2021: A Path to Data Science Interview with Sanyam Bhutani\n",
    "\n",
    "* Explore Python for data munging and analysis, with an introduction to CSV and Pandas\n",
    "\n",
    "## WHAT TO TURN IN\n",
    "You are being encouraged to turn the assignment in using the provided\n",
    "Jupyter Notebook.  To do so, make a directory in your Lab environment called\n",
    "`homework/hw0`.   Put all of your files in that directory.  Then zip that directory,\n",
    "rename it with your name as the first part of the filename (e.g. `maull_hw0_files.zip`), then\n",
    "download it to your local machine, then upload the `.zip` to Blackboard.\n",
    "\n",
    "If you do not know how to do this, please ask, or visit one of the many tutorials out there\n",
    "on the basics of using zip in Linux.\n",
    "\n",
    "If you choose not to use the provided notebook, you will still need to turn in a\n",
    "`.ipynb` Jupyter Notebook and corresponding files according to the instructions in\n",
    "this homework.\n",
    "\n",
    "\n",
    "## ASSIGNMENT TASKS\n",
    "### (0%) Familiarize yourself with the JupyterLab environment, Markdown and Python \n",
    "\n",
    "As stated in the course announcement [Jupyter (https://jupyter.org)](https://jupyter.org) is the\n",
    "core platform we will be using in this course and\n",
    "is a popular platform for data scientists around the world.  We have a JupyterLab\n",
    "setup for this course so that we can operate in a cloud-hosted environment, free from\n",
    "some of the resource constraints of running Jupyter on your local machine (though you are free to set\n",
    "it up on your own and seek my advice if you desire).\n",
    "\n",
    "You have been given the information about the  Jupyter environment we have setup for our course, and\n",
    "the underlying Python environment will be using is the [Anaconda (https://anaconda.com)](https://anaconda.com)\n",
    "distribution.  It is not necessary for this assignment, but you are free to look at the multitude\n",
    "of packages installed with Anaconda, though we will not use the majority of them explicitly.\n",
    "\n",
    "As you will soon find out, Notebooks are an incredibly effective way to mix code with narrative\n",
    "and you can create cells that are entirely code or entirely Markdown.  Markdown (MD or `md`) is\n",
    "a highly readable text format that allows for easy documentation of text files, while allowing\n",
    "for HTML-based rendering of the text in a way that is style-independent.\n",
    "\n",
    "We will be using Markdown frequently in this course, and you will learn that there are many different\n",
    "\"flavors\" or Markdown.  We will only be using the basic flavor, but you will benefit from exploring\n",
    "the \"Github flavored\" Markdown, though you will not be responsible for using it in this course -- only the\n",
    "\"basic\" flavor.  Please refer to the original course announcement about Markdown.\n",
    "\n",
    "&#167;  **THERE IS NOTHING TO TURN IN FOR THIS PART.** Play with and become familiar with the basic functions of\n",
    "the Lab environment given to you online in the course Blackboard.\n",
    "\n",
    "\n",
    "&#167;  **PLEASE _CREATE A MARKDOWN DOCUMENT_ CALLED `semester_goals.md` WITH 3 SENTENCES/FRAGMENTS THAT\n",
    "ANSWER THE FOLLOWING QUESTION:**\n",
    "\n",
    "* **What do you wish to accomplish this semester in Data Mining?**\n",
    "\n",
    "Read the documentation for basic Markdown [here](https://www.markdownguide.org/basic-syntax). \n",
    "Turn in the text `.md` file *not* the processed `.html`.  In whatever you turn in, \n",
    "you must show the use of *ALL* the following:\n",
    "\n",
    "* headings (one level is fine),\n",
    "* bullets,\n",
    "* bold and italics"
   ]
  },
  {
   "cell_type": "markdown",
   "metadata": {},
   "source": [
    "### semester_goals.md"
   ]
  },
  {
   "cell_type": "markdown",
   "metadata": {},
   "source": [
    "# What do you wish to accomplish this semester in Data Mining?\n",
    " - Firstly, I will to start from *Data extraction and Data Wrangling*\n",
    " - After that *Exploratory data analysis* will be done for some __real-life topics__\n",
    " - Deep dive into *Machine learning* algorithms\n",
    " - Finally *Deep learning*\n"
   ]
  },
  {
   "cell_type": "markdown",
   "metadata": {},
   "source": [
    "Again, the content of your document needs to address the question above and it should live\n",
    "in the top level directory of your assignment submission.  This part will be graded but no\n",
    "points are awarded for your answer.\n",
    "\n",
    "\n",
    "\n",
    "### (0%) Familiarize yourself with Github and basic git \n",
    "\n",
    "[Github (https://github.com)](https://github.com) is the _de facto_ platform for open source software in the world based\n",
    "on the very popular [git (https://git-scm.org)](https://git-scm.org) version control system. Git has a sophisticated set\n",
    "of tools for version control based on the concept of local repositories for fast commits and remote\n",
    "repositories only when collaboration and remote synchronization is necessary.  Github enhances git by providing\n",
    "tools and online hosting of public and private repositories to encourage and promote sharing and collaboration.\n",
    "Github hosts some of the world's most widely used open source software.\n",
    "\n",
    "**If you are already familiar with git and Github, then this part will be very easy!**\n",
    "\n",
    "&#167;  **CREATE A PUBLIC GITHUB REPO NAMED `\"mcis6273-F21-datamining\"` AND PLACE A README.MD FILE IN IT.**\n",
    "Create your first file called\n",
    "`README.md` at the top level of the repository.  You can put whatever text you like in the file \n",
    "(If you like, use something like [lorem ipsum](https://lipsum.com/)\n",
    "to generate random sentences to place in the file.).\n",
    "Please include the link to **your** Github repository that now includes the minimal `README.md`. \n",
    "You don't have to have anything elaborate in that file or the repo. \n",
    "\n",
    "\n",
    "\n",
    "### (0%) Explore JupyterHub Linux console integrating what you learned in the prior parts of this homework \n",
    "\n",
    "The Linux console in JupyterLab is a great way to perform command-line tasks and is an essential tool\n",
    "for basic scripting that is part of a data scientist's toolkit.  Open a console in the lab environment\n",
    "and familiarize yourself with your files and basic commands using git as indicated below.\n",
    "\n",
    "1. In a new JupyterLab command line console, run the `git clone` command to clone the new\n",
    "  repository you created in the prior part.\n",
    "  You will want to read the documentation on this \n",
    "  command (try here [https://www.git-scm.com/docs/git-clone](https://www.git-scm.com/docs/git-clone) to get a good\n",
    "  start).\n",
    "2. Within the same console, modify your `README.md` file, check it in and push it back to your repository, using\n",
    "  `git push`.  Read the [documentation about `git push`](https://git-scm.com/docs/git-push).\n",
    "3. The commands `wget` and `curl` are useful for grabbing data and files from remote resources off the web.\n",
    "  Read the documentation on each of these commands by typing `man wget` or `man curl` in the terminal.\n",
    "  Make sure you pipe the output to a file or use the proper flags to do so.\n",
    "\n",
    "&#167;  **THERE IS NOTHING TO TURN IN FOR THIS PART.**\n",
    "\n",
    "\n",
    "\n",
    "### (30%) Listen to the Talk Python['Podcast'] from June 25, 2021: A Path to Data Science Interview with Sanyam Bhutani \n",
    "\n",
    "Data science is one of the most important and \"hot\" disciplines today\n",
    "and there is a lot going on from data engineering to modeling and\n",
    "analysis.\n",
    "\n",
    "Bhutani is one of the top [Kaggle]() leaders and in this interview\n",
    "shares his experience from computer science to data science, \n",
    "documenting some of the lessons he learned along the way.\n",
    "\n",
    "Please listen to this one hour podcast and answer some of the questions below.\n",
    "You can listen to it from one of the two links below:\n",
    "\n",
    "* [Talk Python['Podcast'] landing page](https://talkpython.fm/episodes/transcript/322/a-path-into-data-science)\n",
    "* [direct link to mp3 file](https://downloads.talkpython.fm/podcasts/talkpython/322-starting-in-data-sci.mp3)\n",
    "\n",
    "&#167;  **PLEASE ANSWER THE FOLLOWING QUESTIONS AFTER LISTENING TO THE PODCAST:**\n",
    "\n",
    "1. List 3 things that you learned from this podcast?\n",
    "\n",
    "2. What is your reaction to the podcast?  Pick at least one point Sanyam brought up in the interview that you agree with and list your reason why.\n",
    "\n",
    "3. After listening to the podcast, do you think you are more interested or less interested in a career in Data Science?"
   ]
  },
  {
   "cell_type": "markdown",
   "metadata": {},
   "source": [
    "#### 1. List 3 things that you learned from this podcast?\n",
    " - The top-down approach for learning anything is best. As we pick a project and learn along the way. This gives a good hands-on\n",
    " - Setting goals on kaggle and discussing it in the forum helps to learn and moving up in the leaderboard gives a great feeling\n",
    " - Learning programming doesn't requires any prior knowledge. We can start anytime either we have some computer science backgroud or we are from any background which doesn't involves programming.\n",
    " \n",
    "#### 2. What is your reaction to the podcast? Pick at least one point Sanyam brought up in the interview that you agree with and list your reason why.\n",
    " - The podcast has given me a bit of knowledge of a person real-life and how he is managed to learn python programming. \n",
    " - There are times when a person got distracted from the programming but joining a competition (like hackathon) will keep you on the track and yes, this is true it's hard to get under 30 rank in a competition but participation in a competition gives a great experience.\n",
    "\n",
    "#### 3. After listening to the podcast, do you think you are more interested or less interested in a career in Data Science?\n",
    " - After listening the podcast, I'm more interested to pursue a career in data science. As data science gives you a way to learn about various topics for analysing data and to get a fruitful results from the data. Various topics in the sense , if we wanted to create the model then we need to dive deeper into the problem to understand the root and make a accurate model."
   ]
  },
  {
   "cell_type": "markdown",
   "metadata": {},
   "source": [
    "### (70%) Explore Python for data munging and analysis, with an introduction to CSV and Pandas \n",
    "\n",
    "\n",
    "Python's strengths shine when tasked with data munging and analysis.  As we will learn throughout\n",
    "the course, there are a number of excellent data sources for open data of all kinds now\n",
    "available for the public.  These open data sources are heralding the new era of transparency\n",
    "from all levels from small municipal data to big government data, from transportation, to science,\n",
    "to education.\n",
    "\n",
    "To warm up to such datasets, we will be working with an interesting\n",
    "dataset from the US Fish and Wildlife Service (FWS).  This is a \n",
    "water quality data set taken from a managed national refuge in\n",
    "Virginia called Back Bay National Wildlife Refuge, which was \n",
    "established in 1938.  As a function of being managed by the FWS, \n",
    "water quality samples are taken regularly from the marshes within \n",
    "the refuge.\n",
    "\n",
    "You can (and should) learn a little more about Back Bay from\n",
    "this link, since it has an interesting history, features and wildlife.\n",
    "\n",
    "* [https://www.fws.gov/refuge/Back_Bay/about.html](https://www.fws.gov/refuge/Back_Bay/about.html)\n",
    "\n",
    "\n",
    "The data we will be looking at can be found as a direct download \n",
    "from data.gov, the US data repository where many datasets from\n",
    "a variety of sources can be found -- mostly related to the \n",
    "multitude of US government agencies.\n",
    "\n",
    "The dataset is a small water quality dataset with several decades\n",
    "of water quality data from Back Bay.  We will be warming up\n",
    "to this dataset with a basic investigation into the shape, content\n",
    "and context of the data contained therein.\n",
    "\n",
    "\n",
    "In this part of the assignment, we will make use of Python libraries to pull the data from the\n",
    "endpoint and use [Pandas](https://pandas.pydata.org) to plot the data.  The raw CSV data is\n",
    "readily imported into Pandas from the following URL:\n",
    "\n",
    "* [FWS Water Quality Data 12/20/2020](https://catalog.data.gov/dataset/water-quality-data/resource/f4d736fd-ade9-4e3f-b8e0-ae7fd98b2f87)\n",
    "\n",
    "Please take a look at the page, on it you will notice a link \n",
    "to the raw CSV file:\n",
    "\n",
    "* [https://ecos.fws.gov/ServCat/DownloadFile/173741?Reference=117348](https://ecos.fws.gov/ServCat/DownloadFile/173741?Reference=117348)\n",
    "\n",
    "We are going to explore this dataset to learn a bit more about the \n",
    "water quality characteristics of Bay Bay over the past couple decades\n",
    "or so.\n",
    "\n",
    "&#167;  **WRITE THE CODE IN YOUR NOTEBOOK TO LOAD AND RESHAPE THE COMPLETE CSV WATER QUALITY DATASET**:\n",
    "\n",
    "You will need to perform the following steps:\n",
    "\n",
    "1. **use [`pandas.read_csv()`](https://pandas.pydata.org/pandas-docs/stable/generated/pandas.read_csv.html) method to load the dataset** into a Pandas DataFrame;\n",
    "2. **clean the data so that the range of years is restricted to the 20 year period from 1999 to 2018**\n",
    "5. **store the entire dataset back into a new CSV** file called `back_bay_1998-2018_clean.csv`."
   ]
  },
  {
   "cell_type": "markdown",
   "metadata": {},
   "source": [
    "## Importing libraries"
   ]
  },
  {
   "cell_type": "code",
   "execution_count": 15,
   "metadata": {},
   "outputs": [],
   "source": [
    "import pandas as pd"
   ]
  },
  {
   "cell_type": "markdown",
   "metadata": {},
   "source": [
    "## Loading dataset"
   ]
  },
  {
   "cell_type": "code",
   "execution_count": 16,
   "metadata": {},
   "outputs": [],
   "source": [
    "water_quality = pd.read_csv(\"BKB_WaterQualityData_2020084.csv\")"
   ]
  },
  {
   "cell_type": "code",
   "execution_count": 17,
   "metadata": {},
   "outputs": [
    {
     "data": {
      "text/html": [
       "<div>\n",
       "<style scoped>\n",
       "    .dataframe tbody tr th:only-of-type {\n",
       "        vertical-align: middle;\n",
       "    }\n",
       "\n",
       "    .dataframe tbody tr th {\n",
       "        vertical-align: top;\n",
       "    }\n",
       "\n",
       "    .dataframe thead th {\n",
       "        text-align: right;\n",
       "    }\n",
       "</style>\n",
       "<table border=\"1\" class=\"dataframe\">\n",
       "  <thead>\n",
       "    <tr style=\"text-align: right;\">\n",
       "      <th></th>\n",
       "      <th>Site_Id</th>\n",
       "      <th>Unit_Id</th>\n",
       "      <th>Read_Date</th>\n",
       "      <th>Salinity (ppt)</th>\n",
       "      <th>Dissolved Oxygen (mg/L)</th>\n",
       "      <th>pH (standard units)</th>\n",
       "      <th>Secchi Depth (m)</th>\n",
       "      <th>Water Depth (m)</th>\n",
       "      <th>Water Temp (?C)</th>\n",
       "      <th>Air Temp-Celsius</th>\n",
       "      <th>Air Temp (?F)</th>\n",
       "      <th>Time (24:00)</th>\n",
       "      <th>Field_Tech</th>\n",
       "      <th>DateVerified</th>\n",
       "      <th>WhoVerified</th>\n",
       "      <th>AirTemp (C)</th>\n",
       "      <th>Year</th>\n",
       "    </tr>\n",
       "  </thead>\n",
       "  <tbody>\n",
       "    <tr>\n",
       "      <th>0</th>\n",
       "      <td>Bay</td>\n",
       "      <td>NaN</td>\n",
       "      <td>1/3/1994</td>\n",
       "      <td>1.3</td>\n",
       "      <td>11.7</td>\n",
       "      <td>7.3</td>\n",
       "      <td>0.40</td>\n",
       "      <td>0.40</td>\n",
       "      <td>5.9</td>\n",
       "      <td>8.0</td>\n",
       "      <td>46.40</td>\n",
       "      <td>11:00</td>\n",
       "      <td>NaN</td>\n",
       "      <td>NaN</td>\n",
       "      <td>NaN</td>\n",
       "      <td>8.0</td>\n",
       "      <td>1994</td>\n",
       "    </tr>\n",
       "    <tr>\n",
       "      <th>1</th>\n",
       "      <td>Bay</td>\n",
       "      <td>NaN</td>\n",
       "      <td>1/31/1994</td>\n",
       "      <td>1.5</td>\n",
       "      <td>12.0</td>\n",
       "      <td>7.4</td>\n",
       "      <td>0.20</td>\n",
       "      <td>0.35</td>\n",
       "      <td>3.0</td>\n",
       "      <td>2.6</td>\n",
       "      <td>36.68</td>\n",
       "      <td>11:30</td>\n",
       "      <td>NaN</td>\n",
       "      <td>NaN</td>\n",
       "      <td>NaN</td>\n",
       "      <td>2.6</td>\n",
       "      <td>1994</td>\n",
       "    </tr>\n",
       "    <tr>\n",
       "      <th>2</th>\n",
       "      <td>Bay</td>\n",
       "      <td>NaN</td>\n",
       "      <td>2/7/1994</td>\n",
       "      <td>1.0</td>\n",
       "      <td>10.5</td>\n",
       "      <td>7.2</td>\n",
       "      <td>0.25</td>\n",
       "      <td>0.60</td>\n",
       "      <td>5.9</td>\n",
       "      <td>7.6</td>\n",
       "      <td>45.68</td>\n",
       "      <td>9:45</td>\n",
       "      <td>NaN</td>\n",
       "      <td>NaN</td>\n",
       "      <td>NaN</td>\n",
       "      <td>7.6</td>\n",
       "      <td>1994</td>\n",
       "    </tr>\n",
       "    <tr>\n",
       "      <th>3</th>\n",
       "      <td>Bay</td>\n",
       "      <td>NaN</td>\n",
       "      <td>2/23/1994</td>\n",
       "      <td>1.0</td>\n",
       "      <td>10.1</td>\n",
       "      <td>7.4</td>\n",
       "      <td>0.35</td>\n",
       "      <td>0.50</td>\n",
       "      <td>10.0</td>\n",
       "      <td>2.7</td>\n",
       "      <td>36.86</td>\n",
       "      <td>NaN</td>\n",
       "      <td>NaN</td>\n",
       "      <td>NaN</td>\n",
       "      <td>NaN</td>\n",
       "      <td>2.7</td>\n",
       "      <td>1994</td>\n",
       "    </tr>\n",
       "    <tr>\n",
       "      <th>4</th>\n",
       "      <td>Bay</td>\n",
       "      <td>NaN</td>\n",
       "      <td>2/28/1994</td>\n",
       "      <td>1.0</td>\n",
       "      <td>12.6</td>\n",
       "      <td>7.2</td>\n",
       "      <td>0.20</td>\n",
       "      <td>0.40</td>\n",
       "      <td>1.6</td>\n",
       "      <td>0.0</td>\n",
       "      <td>32.00</td>\n",
       "      <td>10:30</td>\n",
       "      <td>NaN</td>\n",
       "      <td>NaN</td>\n",
       "      <td>NaN</td>\n",
       "      <td>0.0</td>\n",
       "      <td>1994</td>\n",
       "    </tr>\n",
       "  </tbody>\n",
       "</table>\n",
       "</div>"
      ],
      "text/plain": [
       "  Site_Id Unit_Id  Read_Date  Salinity (ppt)  Dissolved Oxygen (mg/L)  \\\n",
       "0     Bay     NaN   1/3/1994             1.3                     11.7   \n",
       "1     Bay     NaN  1/31/1994             1.5                     12.0   \n",
       "2     Bay     NaN   2/7/1994             1.0                     10.5   \n",
       "3     Bay     NaN  2/23/1994             1.0                     10.1   \n",
       "4     Bay     NaN  2/28/1994             1.0                     12.6   \n",
       "\n",
       "   pH (standard units)  Secchi Depth (m)  Water Depth (m)  Water Temp (?C)  \\\n",
       "0                  7.3              0.40             0.40              5.9   \n",
       "1                  7.4              0.20             0.35              3.0   \n",
       "2                  7.2              0.25             0.60              5.9   \n",
       "3                  7.4              0.35             0.50             10.0   \n",
       "4                  7.2              0.20             0.40              1.6   \n",
       "\n",
       "   Air Temp-Celsius  Air Temp (?F) Time (24:00) Field_Tech DateVerified  \\\n",
       "0               8.0          46.40        11:00        NaN          NaN   \n",
       "1               2.6          36.68        11:30        NaN          NaN   \n",
       "2               7.6          45.68         9:45        NaN          NaN   \n",
       "3               2.7          36.86          NaN        NaN          NaN   \n",
       "4               0.0          32.00        10:30        NaN          NaN   \n",
       "\n",
       "  WhoVerified  AirTemp (C)  Year  \n",
       "0         NaN          8.0  1994  \n",
       "1         NaN          2.6  1994  \n",
       "2         NaN          7.6  1994  \n",
       "3         NaN          2.7  1994  \n",
       "4         NaN          0.0  1994  "
      ]
     },
     "execution_count": 17,
     "metadata": {},
     "output_type": "execute_result"
    }
   ],
   "source": [
    "water_quality.head()"
   ]
  },
  {
   "cell_type": "markdown",
   "metadata": {},
   "source": [
    "## 20 years period from 1999 to 2018"
   ]
  },
  {
   "cell_type": "code",
   "execution_count": 18,
   "metadata": {},
   "outputs": [],
   "source": [
    "water_quality_20 = water_quality.query(\"Year >= 1999 and Year <= 2018\")"
   ]
  },
  {
   "cell_type": "code",
   "execution_count": 19,
   "metadata": {},
   "outputs": [
    {
     "data": {
      "text/html": [
       "<div>\n",
       "<style scoped>\n",
       "    .dataframe tbody tr th:only-of-type {\n",
       "        vertical-align: middle;\n",
       "    }\n",
       "\n",
       "    .dataframe tbody tr th {\n",
       "        vertical-align: top;\n",
       "    }\n",
       "\n",
       "    .dataframe thead th {\n",
       "        text-align: right;\n",
       "    }\n",
       "</style>\n",
       "<table border=\"1\" class=\"dataframe\">\n",
       "  <thead>\n",
       "    <tr style=\"text-align: right;\">\n",
       "      <th></th>\n",
       "      <th>Site_Id</th>\n",
       "      <th>Unit_Id</th>\n",
       "      <th>Read_Date</th>\n",
       "      <th>Salinity (ppt)</th>\n",
       "      <th>Dissolved Oxygen (mg/L)</th>\n",
       "      <th>pH (standard units)</th>\n",
       "      <th>Secchi Depth (m)</th>\n",
       "      <th>Water Depth (m)</th>\n",
       "      <th>Water Temp (?C)</th>\n",
       "      <th>Air Temp-Celsius</th>\n",
       "      <th>Air Temp (?F)</th>\n",
       "      <th>Time (24:00)</th>\n",
       "      <th>Field_Tech</th>\n",
       "      <th>DateVerified</th>\n",
       "      <th>WhoVerified</th>\n",
       "      <th>AirTemp (C)</th>\n",
       "      <th>Year</th>\n",
       "    </tr>\n",
       "  </thead>\n",
       "  <tbody>\n",
       "    <tr>\n",
       "      <th>345</th>\n",
       "      <td>A</td>\n",
       "      <td>NaN</td>\n",
       "      <td>8/11/1999</td>\n",
       "      <td>3.0</td>\n",
       "      <td>2.60</td>\n",
       "      <td>7.7</td>\n",
       "      <td>0.60</td>\n",
       "      <td>0.60</td>\n",
       "      <td>26.0</td>\n",
       "      <td>NaN</td>\n",
       "      <td>80.96</td>\n",
       "      <td>23:02</td>\n",
       "      <td>Not Recorded</td>\n",
       "      <td>NaN</td>\n",
       "      <td>NaN</td>\n",
       "      <td>27.200000</td>\n",
       "      <td>1999</td>\n",
       "    </tr>\n",
       "    <tr>\n",
       "      <th>346</th>\n",
       "      <td>A</td>\n",
       "      <td>NaN</td>\n",
       "      <td>8/18/1999</td>\n",
       "      <td>3.0</td>\n",
       "      <td>1.60</td>\n",
       "      <td>8.7</td>\n",
       "      <td>NaN</td>\n",
       "      <td>NaN</td>\n",
       "      <td>31.0</td>\n",
       "      <td>NaN</td>\n",
       "      <td>91.40</td>\n",
       "      <td>9:36</td>\n",
       "      <td>Not Recorded</td>\n",
       "      <td>NaN</td>\n",
       "      <td>NaN</td>\n",
       "      <td>33.000000</td>\n",
       "      <td>1999</td>\n",
       "    </tr>\n",
       "    <tr>\n",
       "      <th>347</th>\n",
       "      <td>A</td>\n",
       "      <td>NaN</td>\n",
       "      <td>9/8/1999</td>\n",
       "      <td>1.8</td>\n",
       "      <td>1.35</td>\n",
       "      <td>8.2</td>\n",
       "      <td>0.40</td>\n",
       "      <td>1.00</td>\n",
       "      <td>28.0</td>\n",
       "      <td>NaN</td>\n",
       "      <td>76.60</td>\n",
       "      <td>14:24</td>\n",
       "      <td>Not Recorded</td>\n",
       "      <td>NaN</td>\n",
       "      <td>NaN</td>\n",
       "      <td>24.777778</td>\n",
       "      <td>1999</td>\n",
       "    </tr>\n",
       "    <tr>\n",
       "      <th>348</th>\n",
       "      <td>A</td>\n",
       "      <td>NaN</td>\n",
       "      <td>10/15/1999</td>\n",
       "      <td>0.1</td>\n",
       "      <td>5.65</td>\n",
       "      <td>7.3</td>\n",
       "      <td>0.60</td>\n",
       "      <td>0.80</td>\n",
       "      <td>20.0</td>\n",
       "      <td>NaN</td>\n",
       "      <td>NaN</td>\n",
       "      <td>0:00</td>\n",
       "      <td>Not Recorded</td>\n",
       "      <td>NaN</td>\n",
       "      <td>NaN</td>\n",
       "      <td>-17.777778</td>\n",
       "      <td>1999</td>\n",
       "    </tr>\n",
       "    <tr>\n",
       "      <th>349</th>\n",
       "      <td>A</td>\n",
       "      <td>NaN</td>\n",
       "      <td>11/10/1999</td>\n",
       "      <td>0.0</td>\n",
       "      <td>6.70</td>\n",
       "      <td>7.6</td>\n",
       "      <td>0.65</td>\n",
       "      <td>0.95</td>\n",
       "      <td>18.0</td>\n",
       "      <td>NaN</td>\n",
       "      <td>NaN</td>\n",
       "      <td>0:00</td>\n",
       "      <td>Not Recorded</td>\n",
       "      <td>NaN</td>\n",
       "      <td>NaN</td>\n",
       "      <td>-17.777778</td>\n",
       "      <td>1999</td>\n",
       "    </tr>\n",
       "  </tbody>\n",
       "</table>\n",
       "</div>"
      ],
      "text/plain": [
       "    Site_Id Unit_Id   Read_Date  Salinity (ppt)  Dissolved Oxygen (mg/L)  \\\n",
       "345       A     NaN   8/11/1999             3.0                     2.60   \n",
       "346       A     NaN   8/18/1999             3.0                     1.60   \n",
       "347       A     NaN    9/8/1999             1.8                     1.35   \n",
       "348       A     NaN  10/15/1999             0.1                     5.65   \n",
       "349       A     NaN  11/10/1999             0.0                     6.70   \n",
       "\n",
       "     pH (standard units)  Secchi Depth (m)  Water Depth (m)  Water Temp (?C)  \\\n",
       "345                  7.7              0.60             0.60             26.0   \n",
       "346                  8.7               NaN              NaN             31.0   \n",
       "347                  8.2              0.40             1.00             28.0   \n",
       "348                  7.3              0.60             0.80             20.0   \n",
       "349                  7.6              0.65             0.95             18.0   \n",
       "\n",
       "     Air Temp-Celsius  Air Temp (?F) Time (24:00)    Field_Tech DateVerified  \\\n",
       "345               NaN          80.96        23:02  Not Recorded          NaN   \n",
       "346               NaN          91.40         9:36  Not Recorded          NaN   \n",
       "347               NaN          76.60        14:24  Not Recorded          NaN   \n",
       "348               NaN            NaN         0:00  Not Recorded          NaN   \n",
       "349               NaN            NaN         0:00  Not Recorded          NaN   \n",
       "\n",
       "    WhoVerified  AirTemp (C)  Year  \n",
       "345         NaN    27.200000  1999  \n",
       "346         NaN    33.000000  1999  \n",
       "347         NaN    24.777778  1999  \n",
       "348         NaN   -17.777778  1999  \n",
       "349         NaN   -17.777778  1999  "
      ]
     },
     "execution_count": 19,
     "metadata": {},
     "output_type": "execute_result"
    }
   ],
   "source": [
    "water_quality_20.head()"
   ]
  },
  {
   "cell_type": "markdown",
   "metadata": {},
   "source": [
    "### Saving new data to CSV"
   ]
  },
  {
   "cell_type": "code",
   "execution_count": 20,
   "metadata": {},
   "outputs": [],
   "source": [
    "water_quality_20.to_csv(\"back_bay_1999-2018_clean.csv\")"
   ]
  },
  {
   "cell_type": "markdown",
   "metadata": {},
   "source": [
    "**HINTS:** _Here are some a code hints you might like to study and use to craft a solution:_\n",
    "\n",
    "* study  [`pandas.DataFrame.query()]`](https://pandas.pydata.org/pandas-docs/stable/reference/api/pandas.DataFrame.query.html?highlight=query#pandas.DataFrame.query) to learn how to filter and query year ranges\n",
    "* study  [`pandas.DataFrame.groupby()`](https://pandas.pydata.org/pandas-docs/stable/reference/api/pandas.DataFrame.groupby.html?highlight=groupby#pandas.DataFrame.groupby) to understand how to group data\n",
    "\n",
    "\n",
    "&#167;  **USE PANDAS TO LOAD THE CSV DATA TO A DATAFRAME AND ANSWER THE FOLLOWING QUESTIONS:**\n",
    "\n",
    "1. How many and what are the names of the columns in this dataset?\n",
    "2. What is the mean `Dissolved Oxygen (mg/L)` over the entire dataset?\n",
    "3. Which year were the highest number of `AirTemp (C)` data points collected?\n",
    "4. Which year were the least number of `AirTemp (C)` data points collected?"
   ]
  },
  {
   "cell_type": "markdown",
   "metadata": {},
   "source": [
    "### 1. How many and what are the names of the columns in this dataset?"
   ]
  },
  {
   "cell_type": "markdown",
   "metadata": {},
   "source": [
    "#### Names of columns"
   ]
  },
  {
   "cell_type": "code",
   "execution_count": 21,
   "metadata": {},
   "outputs": [
    {
     "data": {
      "text/plain": [
       "Index(['Site_Id', 'Unit_Id', 'Read_Date', 'Salinity (ppt)',\n",
       "       'Dissolved Oxygen (mg/L)', 'pH (standard units)', 'Secchi Depth (m)',\n",
       "       'Water Depth (m)', 'Water Temp (?C)', 'Air Temp-Celsius',\n",
       "       'Air Temp (?F)', 'Time (24:00)', 'Field_Tech', 'DateVerified',\n",
       "       'WhoVerified', 'AirTemp (C)', 'Year'],\n",
       "      dtype='object')"
      ]
     },
     "execution_count": 21,
     "metadata": {},
     "output_type": "execute_result"
    }
   ],
   "source": [
    "water_quality.columns"
   ]
  },
  {
   "cell_type": "markdown",
   "metadata": {},
   "source": [
    "#### Number of columns"
   ]
  },
  {
   "cell_type": "code",
   "execution_count": 22,
   "metadata": {},
   "outputs": [
    {
     "data": {
      "text/plain": [
       "17"
      ]
     },
     "execution_count": 22,
     "metadata": {},
     "output_type": "execute_result"
    }
   ],
   "source": [
    "len(water_quality.columns)"
   ]
  },
  {
   "cell_type": "markdown",
   "metadata": {},
   "source": [
    "### 2. What is the mean Dissolved Oxygen (mg/L) over the entire dataset?"
   ]
  },
  {
   "cell_type": "code",
   "execution_count": 23,
   "metadata": {},
   "outputs": [
    {
     "data": {
      "text/plain": [
       "6.646263157894737"
      ]
     },
     "execution_count": 23,
     "metadata": {},
     "output_type": "execute_result"
    }
   ],
   "source": [
    "water_quality[\"Dissolved Oxygen (mg/L)\"].mean()"
   ]
  },
  {
   "cell_type": "markdown",
   "metadata": {},
   "source": [
    "### 3. Which year were the highest number of AirTemp (C) data points collected?"
   ]
  },
  {
   "cell_type": "code",
   "execution_count": 24,
   "metadata": {},
   "outputs": [
    {
     "name": "stdout",
     "output_type": "stream",
     "text": [
      "2009\n"
     ]
    }
   ],
   "source": [
    "max_year = float(\"-inf\")\n",
    "required_year = None\n",
    "\n",
    "# finding the required year which has maximum data points of AirTemp (C)\n",
    "for year in set(water_quality[\"Year\"]):\n",
    "    data_point = water_quality[water_quality[\"Year\"] == year][\"AirTemp (C)\"].count()\n",
    "    if max_year < data_point:\n",
    "        max_year = data_point\n",
    "        required_year = year\n",
    "print(required_year)"
   ]
  },
  {
   "cell_type": "markdown",
   "metadata": {},
   "source": [
    "### 4. Which year were the least number of AirTemp (C) data points collected?"
   ]
  },
  {
   "cell_type": "code",
   "execution_count": 25,
   "metadata": {},
   "outputs": [
    {
     "name": "stdout",
     "output_type": "stream",
     "text": [
      "1899\n"
     ]
    }
   ],
   "source": [
    "min_year = float(\"inf\")\n",
    "required_year = None\n",
    "\n",
    "# finding the required year which has minimum data points of AirTemp (C)\n",
    "for year in set(water_quality[\"Year\"]):\n",
    "    data_point = water_quality[water_quality[\"Year\"] == year][\"AirTemp (C)\"].count()\n",
    "    if min_year > data_point:\n",
    "        min_year = data_point\n",
    "        required_year = year\n",
    "print(required_year)"
   ]
  },
  {
   "cell_type": "markdown",
   "metadata": {},
   "source": [
    "To answer these questions, you'll need to dive further into Pandas, which is\n",
    "the standard tool in the Python data science stack for loading, manipulating,\n",
    "transforming, analyzing and preparing data as input to other tools such as\n",
    "[Numpy (http://www.numpy.org/)](http://www.numpy.org/), \n",
    "[SciKitLearn (http://scikit-learn.org/stable/index.html)](http://scikit-learn.org/stable/index.html), \n",
    "[NLTK (http://www.nltk.org/)](http://www.nltk.org/) and others.\n",
    "\n",
    "For this assignment, you will only need to learn how to load and select data using Pandas.\n",
    "\n",
    "* **LOADING DATA**\n",
    "The core data structure in Pandas is the `DataFrame`.  You will need to visit\n",
    "the Pandas documentation [(https://pandas.pydata.org/pandas-docs/stable/reference/)](https://pandas.pydata.org/pandas-docs/stable/reference/)\n",
    "to learn more about the library, but to help you along with a hint, read the\n",
    "documentation on the [`pandas.read_csv()`](https://pandas.pydata.org/pandas-docs/stable/generated/pandas.read_csv.html) method.\n",
    "\n",
    "* **SELECTING DATA**\n",
    "The [tutorial here on indexing and selecting](http://pandas.pydata.org/pandas-docs/stable/indexing.html)\n",
    "should be of great use in understanding how to index and select subsets of\n",
    "the data to answer the questions.\n",
    "\n",
    "* **GROUPING DATA** You may use [`DataFrame.value_counts()`](https://pandas.pydata.org/pandas-docs/stable/reference/api/pandas.DataFrame.value_counts.html?highlight=value_counts#pandas.DataFrame.value_counts) or [`DataFrame.groupby()`](https://pandas.pydata.org/pandas-docs/stable/reference/groupby.html) to group\n",
    "the data you need for these questons.  You will also find [`DataFrame.groupby()](https://pandas.pydata.org/pandas-docs/stable/reference/api/pandas.DataFrame.groupby.html?highlight=groupby#pandas.DataFrame.groupby) and [`DataFrame.describe()`](https://pandas.pydata.org/pandas-docs/stable/reference/api/pandas.DataFrame.describe.html?highlight=describe#pandas.DataFrame.describe) very useful.\n",
    "\n",
    "**CODE HINTS**\n",
    "\n",
    "Here is example code that should give you clues about the structure\n",
    "of your code for this part.\n",
    "\n",
    "```python\n",
    "  import pandas as pd\n",
    "\n",
    "  df = pd.read_csv('your_json_file.csv')\n",
    "\n",
    "  # code for question 1 ... and so on\n",
    "```\n",
    "\n",
    "\n",
    "&#167;  **EXPLORING WATER SALINITY IN THE DATA**\n",
    "\n",
    "The Back Bay refuge is on the eastern coast of Virginia and to\n",
    "the east is the Atlantic Ocean.  Salinity is a measure of\n",
    "the salt concentration of water, and you can learn a little more\n",
    "about salinity in water [here](https://www.usgs.gov/special-topic/water-science-school/science/saline-water-and-salinity?qt-science_center_objects=0#qt-science_center_objects).\n",
    "\n",
    "You will notice that there is a `Site_Id` variable in the data, which \n",
    "we will find refers to the five sampling locations (see the [documentation here](https://ecos.fws.gov/ServCat/Reference/Profile/117348))\n",
    "of (1) the Bay, (2) D-Pool (fishing pond), (3) C-Pool, (4) B-Pool and (5) A-Pool.\n",
    "\n",
    "The ppt in Salinity is the percent salinity, and so 1 ppt is equivalent to 10000 ppm salinity.  Use this information to answer \n",
    "the following questions.\n",
    "\n",
    "1. Which sampling location has the highest mean ppt?  What is the equivalent ppm?\n",
    "2. When looking at the mean ppt, which location would you infer is furthest from the influence of ocean water inflows? \n",
    "   (Assume that higher salinity correlates to closer proximity to the ocean.)\n",
    "3. Dig a little deeper into #2, and write why there may be some uncertainty in your answer? (hint: certainty is improved by consistency in data)\n",
    "4. Use the data to determine the correlation between `Salinity (ppt)` and `pH (standard units)`.  Use the [DataFrame.corr()](https://pandas.pydata.org/pandas-docs/stable/reference/api/pandas.core.groupby.DataFrameGroupBy.corr.html?highlight=correlate).  You just need to report the correlation value.  "
   ]
  },
  {
   "cell_type": "markdown",
   "metadata": {},
   "source": [
    "### 1. Which sampling location has the highest mean ppt? What is the equivalent ppm?"
   ]
  },
  {
   "cell_type": "code",
   "execution_count": 26,
   "metadata": {},
   "outputs": [
    {
     "name": "stdout",
     "output_type": "stream",
     "text": [
      "Bay has highest salinity. Mean in PPM = 14831.53638814016\n"
     ]
    }
   ],
   "source": [
    "highest_mean = float(\"-inf\")\n",
    "required_site = None\n",
    "for site in set(water_quality[\"Site_Id\"]):\n",
    "    mean = water_quality[water_quality[\"Site_Id\"] == site][\"Salinity (ppt)\"].mean()\n",
    "    if mean > highest_mean:\n",
    "        highest_mean = mean\n",
    "        required_site = site\n",
    "\n",
    "print(\"{} has highest salinity. Mean in PPM = {}\".format(required_site, highest_mean * 10000))"
   ]
  },
  {
   "cell_type": "markdown",
   "metadata": {},
   "source": [
    "### 2. When looking at the mean ppt, which location would you infer is furthest from the influence of ocean water inflows?"
   ]
  },
  {
   "cell_type": "code",
   "execution_count": 27,
   "metadata": {},
   "outputs": [
    {
     "name": "stdout",
     "output_type": "stream",
     "text": [
      "d has lowest salinity, and that can be considered as farthest city from the ocean\n"
     ]
    }
   ],
   "source": [
    "# The location which has less mean ppt will have less salinity and considered \n",
    "# to be the farthest from the ocean\n",
    "lowest_mean = float(\"inf\")\n",
    "required_site = None\n",
    "\n",
    "for site in set(water_quality[\"Site_Id\"]):\n",
    "    mean = water_quality[water_quality[\"Site_Id\"] == site][\"Salinity (ppt)\"].mean()\n",
    "    if mean < lowest_mean:\n",
    "        lowest_mean = mean\n",
    "        required_site = site\n",
    "\n",
    "print(\"{} has lowest salinity, and that can be considered as farthest city from the ocean\".format(required_site))"
   ]
  },
  {
   "cell_type": "markdown",
   "metadata": {},
   "source": [
    "### 3. Dig a little deeper into #2, and write why there may be some uncertainty in your answer? "
   ]
  },
  {
   "cell_type": "markdown",
   "metadata": {},
   "source": [
    "There is uncertainity in the data because there are some sites which doesn't have there salinity values, and they are not taking part in calculation of farthest city. So we can't say if the city is farthest from ocean or not. We are only checking the mean salinity of few cities which has salinity values."
   ]
  },
  {
   "cell_type": "markdown",
   "metadata": {},
   "source": [
    "### 4. Use the data to determine the correlation between Salinity (ppt) and pH (standard units)."
   ]
  },
  {
   "cell_type": "code",
   "execution_count": 28,
   "metadata": {},
   "outputs": [
    {
     "data": {
      "text/html": [
       "<div>\n",
       "<style scoped>\n",
       "    .dataframe tbody tr th:only-of-type {\n",
       "        vertical-align: middle;\n",
       "    }\n",
       "\n",
       "    .dataframe tbody tr th {\n",
       "        vertical-align: top;\n",
       "    }\n",
       "\n",
       "    .dataframe thead th {\n",
       "        text-align: right;\n",
       "    }\n",
       "</style>\n",
       "<table border=\"1\" class=\"dataframe\">\n",
       "  <thead>\n",
       "    <tr style=\"text-align: right;\">\n",
       "      <th></th>\n",
       "      <th>Salinity (ppt)</th>\n",
       "      <th>pH (standard units)</th>\n",
       "    </tr>\n",
       "  </thead>\n",
       "  <tbody>\n",
       "    <tr>\n",
       "      <th>Salinity (ppt)</th>\n",
       "      <td>1.000000</td>\n",
       "      <td>0.296075</td>\n",
       "    </tr>\n",
       "    <tr>\n",
       "      <th>pH (standard units)</th>\n",
       "      <td>0.296075</td>\n",
       "      <td>1.000000</td>\n",
       "    </tr>\n",
       "  </tbody>\n",
       "</table>\n",
       "</div>"
      ],
      "text/plain": [
       "                     Salinity (ppt)  pH (standard units)\n",
       "Salinity (ppt)             1.000000             0.296075\n",
       "pH (standard units)        0.296075             1.000000"
      ]
     },
     "execution_count": 28,
     "metadata": {},
     "output_type": "execute_result"
    }
   ],
   "source": [
    "salinity_ph = water_quality[[\"Salinity (ppt)\", \"pH (standard units)\"]]\n",
    "salinity_ph.corr()"
   ]
  },
  {
   "cell_type": "code",
   "execution_count": null,
   "metadata": {},
   "outputs": [],
   "source": []
  }
 ],
 "metadata": {
  "anaconda-cloud": {},
  "kernelspec": {
   "display_name": "Python 3 (ipykernel)",
   "language": "python",
   "name": "python3"
  },
  "language_info": {
   "codemirror_mode": {
    "name": "ipython",
    "version": 3
   },
   "file_extension": ".py",
   "mimetype": "text/x-python",
   "name": "python",
   "nbconvert_exporter": "python",
   "pygments_lexer": "ipython3",
   "version": "3.7.0"
  },
  "toc": {
   "colors": {
    "hover_highlight": "#DAA520",
    "navigate_num": "#000000",
    "navigate_text": "#333333",
    "running_highlight": "#FF0000",
    "selected_highlight": "#FFD700",
    "sidebar_border": "#EEEEEE",
    "wrapper_background": "#FFFFFF"
   },
   "moveMenuLeft": true,
   "nav_menu": {
    "height": "12px",
    "width": "252px"
   },
   "navigate_menu": true,
   "number_sections": false,
   "sideBar": true,
   "threshold": "1",
   "toc_cell": false,
   "toc_section_display": "block",
   "toc_window_display": true,
   "widenNotebook": false
  }
 },
 "nbformat": 4,
 "nbformat_minor": 1
}
