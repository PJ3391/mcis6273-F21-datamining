{
 "cells": [
  {
   "cell_type": "markdown",
   "metadata": {
    "pycharm": {
     "name": "#%%\n"
    }
   },
   "source": [
    "## Importing libraries"
   ]
  },
  {
   "cell_type": "code",
   "execution_count": 2,
   "metadata": {
    "pycharm": {
     "is_executing": true
    }
   },
   "outputs": [],
   "source": [
    "import pandas as pd"
   ]
  },
  {
   "cell_type": "markdown",
   "metadata": {},
   "source": [
    "## Loading dataset"
   ]
  },
  {
   "cell_type": "code",
   "execution_count": 3,
   "metadata": {},
   "outputs": [],
   "source": [
    "water_quality = pd.read_csv(\"BKB_WaterQualityData_2020084.csv\")"
   ]
  },
  {
   "cell_type": "code",
   "execution_count": 5,
   "metadata": {},
   "outputs": [
    {
     "data": {
      "text/html": [
       "<div>\n",
       "<style scoped>\n",
       "    .dataframe tbody tr th:only-of-type {\n",
       "        vertical-align: middle;\n",
       "    }\n",
       "\n",
       "    .dataframe tbody tr th {\n",
       "        vertical-align: top;\n",
       "    }\n",
       "\n",
       "    .dataframe thead th {\n",
       "        text-align: right;\n",
       "    }\n",
       "</style>\n",
       "<table border=\"1\" class=\"dataframe\">\n",
       "  <thead>\n",
       "    <tr style=\"text-align: right;\">\n",
       "      <th></th>\n",
       "      <th>Site_Id</th>\n",
       "      <th>Unit_Id</th>\n",
       "      <th>Read_Date</th>\n",
       "      <th>Salinity (ppt)</th>\n",
       "      <th>Dissolved Oxygen (mg/L)</th>\n",
       "      <th>pH (standard units)</th>\n",
       "      <th>Secchi Depth (m)</th>\n",
       "      <th>Water Depth (m)</th>\n",
       "      <th>Water Temp (?C)</th>\n",
       "      <th>Air Temp-Celsius</th>\n",
       "      <th>Air Temp (?F)</th>\n",
       "      <th>Time (24:00)</th>\n",
       "      <th>Field_Tech</th>\n",
       "      <th>DateVerified</th>\n",
       "      <th>WhoVerified</th>\n",
       "      <th>AirTemp (C)</th>\n",
       "      <th>Year</th>\n",
       "    </tr>\n",
       "  </thead>\n",
       "  <tbody>\n",
       "    <tr>\n",
       "      <th>0</th>\n",
       "      <td>Bay</td>\n",
       "      <td>NaN</td>\n",
       "      <td>1/3/1994</td>\n",
       "      <td>1.3</td>\n",
       "      <td>11.7</td>\n",
       "      <td>7.3</td>\n",
       "      <td>0.40</td>\n",
       "      <td>0.40</td>\n",
       "      <td>5.9</td>\n",
       "      <td>8.0</td>\n",
       "      <td>46.40</td>\n",
       "      <td>11:00</td>\n",
       "      <td>NaN</td>\n",
       "      <td>NaN</td>\n",
       "      <td>NaN</td>\n",
       "      <td>8.0</td>\n",
       "      <td>1994</td>\n",
       "    </tr>\n",
       "    <tr>\n",
       "      <th>1</th>\n",
       "      <td>Bay</td>\n",
       "      <td>NaN</td>\n",
       "      <td>1/31/1994</td>\n",
       "      <td>1.5</td>\n",
       "      <td>12.0</td>\n",
       "      <td>7.4</td>\n",
       "      <td>0.20</td>\n",
       "      <td>0.35</td>\n",
       "      <td>3.0</td>\n",
       "      <td>2.6</td>\n",
       "      <td>36.68</td>\n",
       "      <td>11:30</td>\n",
       "      <td>NaN</td>\n",
       "      <td>NaN</td>\n",
       "      <td>NaN</td>\n",
       "      <td>2.6</td>\n",
       "      <td>1994</td>\n",
       "    </tr>\n",
       "    <tr>\n",
       "      <th>2</th>\n",
       "      <td>Bay</td>\n",
       "      <td>NaN</td>\n",
       "      <td>2/7/1994</td>\n",
       "      <td>1.0</td>\n",
       "      <td>10.5</td>\n",
       "      <td>7.2</td>\n",
       "      <td>0.25</td>\n",
       "      <td>0.60</td>\n",
       "      <td>5.9</td>\n",
       "      <td>7.6</td>\n",
       "      <td>45.68</td>\n",
       "      <td>9:45</td>\n",
       "      <td>NaN</td>\n",
       "      <td>NaN</td>\n",
       "      <td>NaN</td>\n",
       "      <td>7.6</td>\n",
       "      <td>1994</td>\n",
       "    </tr>\n",
       "    <tr>\n",
       "      <th>3</th>\n",
       "      <td>Bay</td>\n",
       "      <td>NaN</td>\n",
       "      <td>2/23/1994</td>\n",
       "      <td>1.0</td>\n",
       "      <td>10.1</td>\n",
       "      <td>7.4</td>\n",
       "      <td>0.35</td>\n",
       "      <td>0.50</td>\n",
       "      <td>10.0</td>\n",
       "      <td>2.7</td>\n",
       "      <td>36.86</td>\n",
       "      <td>NaN</td>\n",
       "      <td>NaN</td>\n",
       "      <td>NaN</td>\n",
       "      <td>NaN</td>\n",
       "      <td>2.7</td>\n",
       "      <td>1994</td>\n",
       "    </tr>\n",
       "    <tr>\n",
       "      <th>4</th>\n",
       "      <td>Bay</td>\n",
       "      <td>NaN</td>\n",
       "      <td>2/28/1994</td>\n",
       "      <td>1.0</td>\n",
       "      <td>12.6</td>\n",
       "      <td>7.2</td>\n",
       "      <td>0.20</td>\n",
       "      <td>0.40</td>\n",
       "      <td>1.6</td>\n",
       "      <td>0.0</td>\n",
       "      <td>32.00</td>\n",
       "      <td>10:30</td>\n",
       "      <td>NaN</td>\n",
       "      <td>NaN</td>\n",
       "      <td>NaN</td>\n",
       "      <td>0.0</td>\n",
       "      <td>1994</td>\n",
       "    </tr>\n",
       "  </tbody>\n",
       "</table>\n",
       "</div>"
      ],
      "text/plain": [
       "  Site_Id Unit_Id  Read_Date  Salinity (ppt)  Dissolved Oxygen (mg/L)  \\\n",
       "0     Bay     NaN   1/3/1994             1.3                     11.7   \n",
       "1     Bay     NaN  1/31/1994             1.5                     12.0   \n",
       "2     Bay     NaN   2/7/1994             1.0                     10.5   \n",
       "3     Bay     NaN  2/23/1994             1.0                     10.1   \n",
       "4     Bay     NaN  2/28/1994             1.0                     12.6   \n",
       "\n",
       "   pH (standard units)  Secchi Depth (m)  Water Depth (m)  Water Temp (?C)  \\\n",
       "0                  7.3              0.40             0.40              5.9   \n",
       "1                  7.4              0.20             0.35              3.0   \n",
       "2                  7.2              0.25             0.60              5.9   \n",
       "3                  7.4              0.35             0.50             10.0   \n",
       "4                  7.2              0.20             0.40              1.6   \n",
       "\n",
       "   Air Temp-Celsius  Air Temp (?F) Time (24:00) Field_Tech DateVerified  \\\n",
       "0               8.0          46.40        11:00        NaN          NaN   \n",
       "1               2.6          36.68        11:30        NaN          NaN   \n",
       "2               7.6          45.68         9:45        NaN          NaN   \n",
       "3               2.7          36.86          NaN        NaN          NaN   \n",
       "4               0.0          32.00        10:30        NaN          NaN   \n",
       "\n",
       "  WhoVerified  AirTemp (C)  Year  \n",
       "0         NaN          8.0  1994  \n",
       "1         NaN          2.6  1994  \n",
       "2         NaN          7.6  1994  \n",
       "3         NaN          2.7  1994  \n",
       "4         NaN          0.0  1994  "
      ]
     },
     "execution_count": 5,
     "metadata": {},
     "output_type": "execute_result"
    }
   ],
   "source": [
    "water_quality.head()"
   ]
  },
  {
   "cell_type": "markdown",
   "metadata": {},
   "source": [
    "## 20 years period from 1999 to 2018"
   ]
  },
  {
   "cell_type": "code",
   "execution_count": 7,
   "metadata": {},
   "outputs": [],
   "source": [
    "water_quality_20 = water_quality.query(\"Year >= 1999 and Year <= 2018\")"
   ]
  },
  {
   "cell_type": "code",
   "execution_count": 9,
   "metadata": {},
   "outputs": [
    {
     "data": {
      "text/html": [
       "<div>\n",
       "<style scoped>\n",
       "    .dataframe tbody tr th:only-of-type {\n",
       "        vertical-align: middle;\n",
       "    }\n",
       "\n",
       "    .dataframe tbody tr th {\n",
       "        vertical-align: top;\n",
       "    }\n",
       "\n",
       "    .dataframe thead th {\n",
       "        text-align: right;\n",
       "    }\n",
       "</style>\n",
       "<table border=\"1\" class=\"dataframe\">\n",
       "  <thead>\n",
       "    <tr style=\"text-align: right;\">\n",
       "      <th></th>\n",
       "      <th>Site_Id</th>\n",
       "      <th>Unit_Id</th>\n",
       "      <th>Read_Date</th>\n",
       "      <th>Salinity (ppt)</th>\n",
       "      <th>Dissolved Oxygen (mg/L)</th>\n",
       "      <th>pH (standard units)</th>\n",
       "      <th>Secchi Depth (m)</th>\n",
       "      <th>Water Depth (m)</th>\n",
       "      <th>Water Temp (?C)</th>\n",
       "      <th>Air Temp-Celsius</th>\n",
       "      <th>Air Temp (?F)</th>\n",
       "      <th>Time (24:00)</th>\n",
       "      <th>Field_Tech</th>\n",
       "      <th>DateVerified</th>\n",
       "      <th>WhoVerified</th>\n",
       "      <th>AirTemp (C)</th>\n",
       "      <th>Year</th>\n",
       "    </tr>\n",
       "  </thead>\n",
       "  <tbody>\n",
       "    <tr>\n",
       "      <th>345</th>\n",
       "      <td>A</td>\n",
       "      <td>NaN</td>\n",
       "      <td>8/11/1999</td>\n",
       "      <td>3.0</td>\n",
       "      <td>2.60</td>\n",
       "      <td>7.7</td>\n",
       "      <td>0.60</td>\n",
       "      <td>0.60</td>\n",
       "      <td>26.0</td>\n",
       "      <td>NaN</td>\n",
       "      <td>80.96</td>\n",
       "      <td>23:02</td>\n",
       "      <td>Not Recorded</td>\n",
       "      <td>NaN</td>\n",
       "      <td>NaN</td>\n",
       "      <td>27.200000</td>\n",
       "      <td>1999</td>\n",
       "    </tr>\n",
       "    <tr>\n",
       "      <th>346</th>\n",
       "      <td>A</td>\n",
       "      <td>NaN</td>\n",
       "      <td>8/18/1999</td>\n",
       "      <td>3.0</td>\n",
       "      <td>1.60</td>\n",
       "      <td>8.7</td>\n",
       "      <td>NaN</td>\n",
       "      <td>NaN</td>\n",
       "      <td>31.0</td>\n",
       "      <td>NaN</td>\n",
       "      <td>91.40</td>\n",
       "      <td>9:36</td>\n",
       "      <td>Not Recorded</td>\n",
       "      <td>NaN</td>\n",
       "      <td>NaN</td>\n",
       "      <td>33.000000</td>\n",
       "      <td>1999</td>\n",
       "    </tr>\n",
       "    <tr>\n",
       "      <th>347</th>\n",
       "      <td>A</td>\n",
       "      <td>NaN</td>\n",
       "      <td>9/8/1999</td>\n",
       "      <td>1.8</td>\n",
       "      <td>1.35</td>\n",
       "      <td>8.2</td>\n",
       "      <td>0.40</td>\n",
       "      <td>1.00</td>\n",
       "      <td>28.0</td>\n",
       "      <td>NaN</td>\n",
       "      <td>76.60</td>\n",
       "      <td>14:24</td>\n",
       "      <td>Not Recorded</td>\n",
       "      <td>NaN</td>\n",
       "      <td>NaN</td>\n",
       "      <td>24.777778</td>\n",
       "      <td>1999</td>\n",
       "    </tr>\n",
       "    <tr>\n",
       "      <th>348</th>\n",
       "      <td>A</td>\n",
       "      <td>NaN</td>\n",
       "      <td>10/15/1999</td>\n",
       "      <td>0.1</td>\n",
       "      <td>5.65</td>\n",
       "      <td>7.3</td>\n",
       "      <td>0.60</td>\n",
       "      <td>0.80</td>\n",
       "      <td>20.0</td>\n",
       "      <td>NaN</td>\n",
       "      <td>NaN</td>\n",
       "      <td>0:00</td>\n",
       "      <td>Not Recorded</td>\n",
       "      <td>NaN</td>\n",
       "      <td>NaN</td>\n",
       "      <td>-17.777778</td>\n",
       "      <td>1999</td>\n",
       "    </tr>\n",
       "    <tr>\n",
       "      <th>349</th>\n",
       "      <td>A</td>\n",
       "      <td>NaN</td>\n",
       "      <td>11/10/1999</td>\n",
       "      <td>0.0</td>\n",
       "      <td>6.70</td>\n",
       "      <td>7.6</td>\n",
       "      <td>0.65</td>\n",
       "      <td>0.95</td>\n",
       "      <td>18.0</td>\n",
       "      <td>NaN</td>\n",
       "      <td>NaN</td>\n",
       "      <td>0:00</td>\n",
       "      <td>Not Recorded</td>\n",
       "      <td>NaN</td>\n",
       "      <td>NaN</td>\n",
       "      <td>-17.777778</td>\n",
       "      <td>1999</td>\n",
       "    </tr>\n",
       "  </tbody>\n",
       "</table>\n",
       "</div>"
      ],
      "text/plain": [
       "    Site_Id Unit_Id   Read_Date  Salinity (ppt)  Dissolved Oxygen (mg/L)  \\\n",
       "345       A     NaN   8/11/1999             3.0                     2.60   \n",
       "346       A     NaN   8/18/1999             3.0                     1.60   \n",
       "347       A     NaN    9/8/1999             1.8                     1.35   \n",
       "348       A     NaN  10/15/1999             0.1                     5.65   \n",
       "349       A     NaN  11/10/1999             0.0                     6.70   \n",
       "\n",
       "     pH (standard units)  Secchi Depth (m)  Water Depth (m)  Water Temp (?C)  \\\n",
       "345                  7.7              0.60             0.60             26.0   \n",
       "346                  8.7               NaN              NaN             31.0   \n",
       "347                  8.2              0.40             1.00             28.0   \n",
       "348                  7.3              0.60             0.80             20.0   \n",
       "349                  7.6              0.65             0.95             18.0   \n",
       "\n",
       "     Air Temp-Celsius  Air Temp (?F) Time (24:00)    Field_Tech DateVerified  \\\n",
       "345               NaN          80.96        23:02  Not Recorded          NaN   \n",
       "346               NaN          91.40         9:36  Not Recorded          NaN   \n",
       "347               NaN          76.60        14:24  Not Recorded          NaN   \n",
       "348               NaN            NaN         0:00  Not Recorded          NaN   \n",
       "349               NaN            NaN         0:00  Not Recorded          NaN   \n",
       "\n",
       "    WhoVerified  AirTemp (C)  Year  \n",
       "345         NaN    27.200000  1999  \n",
       "346         NaN    33.000000  1999  \n",
       "347         NaN    24.777778  1999  \n",
       "348         NaN   -17.777778  1999  \n",
       "349         NaN   -17.777778  1999  "
      ]
     },
     "execution_count": 9,
     "metadata": {},
     "output_type": "execute_result"
    }
   ],
   "source": [
    "water_quality_20.head()"
   ]
  },
  {
   "cell_type": "markdown",
   "metadata": {},
   "source": [
    "### Saving new data to CSV"
   ]
  },
  {
   "cell_type": "code",
   "execution_count": 10,
   "metadata": {},
   "outputs": [],
   "source": [
    "water_quality_20.to_csv(\"back_bay_1999-2018_clean.csv\")"
   ]
  },
  {
   "cell_type": "markdown",
   "metadata": {},
   "source": [
    "### 1. How many and what are the names of the columns in this dataset?"
   ]
  },
  {
   "cell_type": "markdown",
   "metadata": {},
   "source": [
    "#### Names of columns"
   ]
  },
  {
   "cell_type": "code",
   "execution_count": 11,
   "metadata": {},
   "outputs": [
    {
     "data": {
      "text/plain": [
       "Index(['Site_Id', 'Unit_Id', 'Read_Date', 'Salinity (ppt)',\n",
       "       'Dissolved Oxygen (mg/L)', 'pH (standard units)', 'Secchi Depth (m)',\n",
       "       'Water Depth (m)', 'Water Temp (?C)', 'Air Temp-Celsius',\n",
       "       'Air Temp (?F)', 'Time (24:00)', 'Field_Tech', 'DateVerified',\n",
       "       'WhoVerified', 'AirTemp (C)', 'Year'],\n",
       "      dtype='object')"
      ]
     },
     "execution_count": 11,
     "metadata": {},
     "output_type": "execute_result"
    }
   ],
   "source": [
    "water_quality.columns"
   ]
  },
  {
   "cell_type": "markdown",
   "metadata": {},
   "source": [
    "#### Number of columns"
   ]
  },
  {
   "cell_type": "code",
   "execution_count": 12,
   "metadata": {},
   "outputs": [
    {
     "data": {
      "text/plain": [
       "17"
      ]
     },
     "execution_count": 12,
     "metadata": {},
     "output_type": "execute_result"
    }
   ],
   "source": [
    "len(water_quality.columns)"
   ]
  },
  {
   "cell_type": "markdown",
   "metadata": {},
   "source": [
    "### 2. What is the mean Dissolved Oxygen (mg/L) over the entire dataset?"
   ]
  },
  {
   "cell_type": "code",
   "execution_count": 13,
   "metadata": {},
   "outputs": [
    {
     "data": {
      "text/plain": [
       "6.646263157894737"
      ]
     },
     "execution_count": 13,
     "metadata": {},
     "output_type": "execute_result"
    }
   ],
   "source": [
    "water_quality[\"Dissolved Oxygen (mg/L)\"].mean()"
   ]
  },
  {
   "cell_type": "markdown",
   "metadata": {},
   "source": [
    "### 3. Which year were the highest number of AirTemp (C) data points collected?"
   ]
  },
  {
   "cell_type": "code",
   "execution_count": 41,
   "metadata": {},
   "outputs": [
    {
     "name": "stdout",
     "output_type": "stream",
     "text": [
      "2009\n"
     ]
    }
   ],
   "source": [
    "max_year = float(\"-inf\")\n",
    "required_year = None\n",
    "\n",
    "# finding the required year which has maximum data points of AirTemp (C)\n",
    "for year in set(water_quality[\"Year\"]):\n",
    "    data_point = water_quality[water_quality[\"Year\"] == year][\"AirTemp (C)\"].count()\n",
    "    if max_year < data_point:\n",
    "        max_year = data_point\n",
    "        required_year = year\n",
    "print(required_year)"
   ]
  },
  {
   "cell_type": "markdown",
   "metadata": {},
   "source": [
    "### 4. Which year were the least number of AirTemp (C) data points collected?"
   ]
  },
  {
   "cell_type": "code",
   "execution_count": 43,
   "metadata": {},
   "outputs": [
    {
     "name": "stdout",
     "output_type": "stream",
     "text": [
      "1899\n"
     ]
    }
   ],
   "source": [
    "min_year = float(\"inf\")\n",
    "required_year = None\n",
    "\n",
    "# finding the required year which has minimum data points of AirTemp (C)\n",
    "for year in set(water_quality[\"Year\"]):\n",
    "    data_point = water_quality[water_quality[\"Year\"] == year][\"AirTemp (C)\"].count()\n",
    "    if min_year > data_point:\n",
    "        min_year = data_point\n",
    "        required_year = year\n",
    "print(required_year)"
   ]
  },
  {
   "cell_type": "markdown",
   "metadata": {},
   "source": [
    "## EXPLORING WATER SALINITY IN THE DATA"
   ]
  },
  {
   "cell_type": "markdown",
   "metadata": {},
   "source": [
    "### 1. Which sampling location has the highest mean ppt? What is the equivalent ppm?"
   ]
  },
  {
   "cell_type": "code",
   "execution_count": 56,
   "metadata": {},
   "outputs": [
    {
     "name": "stdout",
     "output_type": "stream",
     "text": [
      "Bay has highest salinity. Mean in PPM = 14831.53638814016\n"
     ]
    }
   ],
   "source": [
    "highest_mean = float(\"-inf\")\n",
    "required_site = None\n",
    "for site in set(water_quality[\"Site_Id\"]):\n",
    "    mean = water_quality[water_quality[\"Site_Id\"] == site][\"Salinity (ppt)\"].mean()\n",
    "    if mean > highest_mean:\n",
    "        highest_mean = mean\n",
    "        required_site = site\n",
    "\n",
    "print(\"{} has highest salinity. Mean in PPM = {}\".format(required_site, highest_mean * 10000))"
   ]
  },
  {
   "cell_type": "markdown",
   "metadata": {},
   "source": [
    "### 2. When looking at the mean ppt, which location would you infer is furthest from the influence of ocean water inflows?"
   ]
  },
  {
   "cell_type": "code",
   "execution_count": 59,
   "metadata": {},
   "outputs": [
    {
     "name": "stdout",
     "output_type": "stream",
     "text": [
      "d has lowest salinity, and that can be considered as farthest city from the ocean\n"
     ]
    }
   ],
   "source": [
    "# The location which has less mean ppt will have less salinity and considered \n",
    "# to be the farthest from the ocean\n",
    "lowest_mean = float(\"inf\")\n",
    "required_site = None\n",
    "for site in set(water_quality[\"Site_Id\"]):\n",
    "    mean = water_quality[water_quality[\"Site_Id\"] == site][\"Salinity (ppt)\"].mean()\n",
    "    if mean < lowest_mean:\n",
    "        lowest_mean = mean\n",
    "        required_site = site\n",
    "\n",
    "print(\"{} has lowest salinity, and that can be considered as farthest city from the ocean\".format(required_site))"
   ]
  },
  {
   "cell_type": "markdown",
   "metadata": {},
   "source": [
    "### 3. Dig a little deeper into #2, and write why there may be some uncertainty in your answer? "
   ]
  },
  {
   "cell_type": "markdown",
   "metadata": {},
   "source": [
    "There is uncertainity in the data because there are some sites which doesn't have there salinity values, and they are not taking part in calculation of farthest city. So we can't say if the city is farthest from ocean or not. We are only checking the mean salinity of few cities which has salinity values."
   ]
  },
  {
   "cell_type": "markdown",
   "metadata": {},
   "source": [
    "### 4. Use the data to determine the correlation between Salinity (ppt) and pH (standard units)."
   ]
  },
  {
   "cell_type": "code",
   "execution_count": 62,
   "metadata": {},
   "outputs": [
    {
     "data": {
      "text/html": [
       "<div>\n",
       "<style scoped>\n",
       "    .dataframe tbody tr th:only-of-type {\n",
       "        vertical-align: middle;\n",
       "    }\n",
       "\n",
       "    .dataframe tbody tr th {\n",
       "        vertical-align: top;\n",
       "    }\n",
       "\n",
       "    .dataframe thead th {\n",
       "        text-align: right;\n",
       "    }\n",
       "</style>\n",
       "<table border=\"1\" class=\"dataframe\">\n",
       "  <thead>\n",
       "    <tr style=\"text-align: right;\">\n",
       "      <th></th>\n",
       "      <th>Salinity (ppt)</th>\n",
       "      <th>pH (standard units)</th>\n",
       "    </tr>\n",
       "  </thead>\n",
       "  <tbody>\n",
       "    <tr>\n",
       "      <th>Salinity (ppt)</th>\n",
       "      <td>1.000000</td>\n",
       "      <td>0.296075</td>\n",
       "    </tr>\n",
       "    <tr>\n",
       "      <th>pH (standard units)</th>\n",
       "      <td>0.296075</td>\n",
       "      <td>1.000000</td>\n",
       "    </tr>\n",
       "  </tbody>\n",
       "</table>\n",
       "</div>"
      ],
      "text/plain": [
       "                     Salinity (ppt)  pH (standard units)\n",
       "Salinity (ppt)             1.000000             0.296075\n",
       "pH (standard units)        0.296075             1.000000"
      ]
     },
     "execution_count": 62,
     "metadata": {},
     "output_type": "execute_result"
    }
   ],
   "source": [
    "salinity_ph = water_quality[[\"Salinity (ppt)\", \"pH (standard units)\"]]\n",
    "salinity_ph.corr()"
   ]
  },
  {
   "cell_type": "code",
   "execution_count": null,
   "metadata": {},
   "outputs": [],
   "source": []
  }
 ],
 "metadata": {
  "kernelspec": {
   "display_name": "Python 3 (ipykernel)",
   "language": "python",
   "name": "python3"
  },
  "language_info": {
   "codemirror_mode": {
    "name": "ipython",
    "version": 3
   },
   "file_extension": ".py",
   "mimetype": "text/x-python",
   "name": "python",
   "nbconvert_exporter": "python",
   "pygments_lexer": "ipython3",
   "version": "3.7.0"
  }
 },
 "nbformat": 4,
 "nbformat_minor": 1
}
